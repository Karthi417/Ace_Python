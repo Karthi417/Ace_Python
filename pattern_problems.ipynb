{
 "cells": [
  {
   "cell_type": "code",
   "execution_count": 1,
   "id": "580f6be1",
   "metadata": {
    "scrolled": true
   },
   "outputs": [
    {
     "name": "stdout",
     "output_type": "stream",
     "text": [
      "* * * * \n",
      "* * * * \n",
      "* * * * \n",
      "* * * * \n",
      "\n"
     ]
    }
   ],
   "source": [
    "def pattern1(n):\n",
    "    res=\"\"\n",
    "    for i in range(n):\n",
    "        for j in range(n):\n",
    "            res+='* '\n",
    "        res+='\\n'\n",
    "    return res\n",
    "\n",
    "n=4\n",
    "print(pattern1(n))"
   ]
  },
  {
   "cell_type": "code",
   "execution_count": 2,
   "id": "4f965eac",
   "metadata": {},
   "outputs": [
    {
     "name": "stdout",
     "output_type": "stream",
     "text": [
      "* \n",
      "* * \n",
      "* * * \n",
      "* * * * \n",
      "* * * * * \n",
      "* * * * * * \n",
      "\n"
     ]
    }
   ],
   "source": [
    "def pattern2(n):\n",
    "    rest=\"\"\n",
    "    for i in range(n):\n",
    "        for j in range(i+1):\n",
    "            rest+='* '\n",
    "        rest+='\\n'\n",
    "    return rest\n",
    "\n",
    "n=6\n",
    "print(pattern2(n))"
   ]
  },
  {
   "cell_type": "code",
   "execution_count": 3,
   "id": "c81bdf14",
   "metadata": {},
   "outputs": [
    {
     "name": "stdout",
     "output_type": "stream",
     "text": [
      "1 \n",
      "1 2 \n",
      "1 2 3 \n",
      "1 2 3 4 \n",
      "1 2 3 4 5 \n",
      "\n"
     ]
    }
   ],
   "source": [
    "def pattern3(n):\n",
    "    rest=\"\"\n",
    "    for i in range(1,n):\n",
    "        for j in range(1,i+1):\n",
    "            rest+=f'{j} '\n",
    "        rest+='\\n'\n",
    "    return rest\n",
    "\n",
    "n=6\n",
    "print(pattern3(n))"
   ]
  },
  {
   "cell_type": "code",
   "execution_count": 4,
   "id": "ca4afebb",
   "metadata": {},
   "outputs": [
    {
     "name": "stdout",
     "output_type": "stream",
     "text": [
      "1 \n",
      "2 2 \n",
      "3 3 3 \n",
      "4 4 4 4 \n",
      "5 5 5 5 5 \n",
      "\n"
     ]
    }
   ],
   "source": [
    "def pattern4(n):\n",
    "    rest=\"\"\n",
    "    for i in range(1,n):\n",
    "        for j in range(1,i+1):\n",
    "            rest+=f'{i} '\n",
    "        rest+='\\n'\n",
    "    return rest\n",
    "\n",
    "n=6\n",
    "print(pattern4(n))"
   ]
  },
  {
   "cell_type": "code",
   "execution_count": 5,
   "id": "c5cfb7ec",
   "metadata": {},
   "outputs": [
    {
     "name": "stdout",
     "output_type": "stream",
     "text": [
      "* * * * * \n",
      "* * * * \n",
      "* * * \n",
      "* * \n",
      "* \n",
      "\n"
     ]
    }
   ],
   "source": [
    "def pattern5(n):\n",
    "    rest=\"\"\n",
    "    for i in range(n):#or range(0,n)\n",
    "        for j in range(n-i):#or range(1,n-i+1) for start with '1'\n",
    "            rest+='* '\n",
    "        rest+='\\n'\n",
    "    return rest\n",
    "\n",
    "n=5\n",
    "print(pattern5(n))"
   ]
  },
  {
   "cell_type": "code",
   "execution_count": 6,
   "id": "b4c48618",
   "metadata": {},
   "outputs": [
    {
     "name": "stdout",
     "output_type": "stream",
     "text": [
      "1 2 3 4 5 \n",
      "1 2 3 4 \n",
      "1 2 3 \n",
      "1 2 \n",
      "1 \n",
      "\n"
     ]
    }
   ],
   "source": [
    "def pattern6(n):\n",
    "    rest=\"\"\n",
    "    for i in range(n):#or range(0,n)\n",
    "        for j in range(1,n-i+1):#or range(n-i) for start with '0'\n",
    "            rest+=f'{j} '\n",
    "        rest+='\\n'\n",
    "    return rest\n",
    "\n",
    "n=5\n",
    "print(pattern6(n))"
   ]
  },
  {
   "cell_type": "code",
   "execution_count": 7,
   "id": "c065b2ee",
   "metadata": {},
   "outputs": [
    {
     "name": "stdout",
     "output_type": "stream",
     "text": [
      "        *         \n",
      "      * * *       \n",
      "    * * * * *     \n",
      "  * * * * * * *   \n",
      "* * * * * * * * * \n",
      "\n"
     ]
    }
   ],
   "source": [
    "def pattern7(n):\n",
    "    res = \"\"\n",
    "    for i in range(n):#it simply takes n=5 rows\n",
    "        for j in range(i,n-1):#it shows it will print 0->(0,4), 1->(1,4) or (0,3), 2->(2,4) or (0,2) ,3->(3,4) or (0,1),4->(4,4)\n",
    "            res += '  '\n",
    "        for j in range(2*i + 1):#it shows it will print 0->(2*0+1=1), 1->(2*1+1=3), 2->(2*2+1=5), 3->(2*3+1=7), 4->(2*4+1=9)\n",
    "            res += '* '\n",
    "        for j in range(i,n-1):#after space\n",
    "            res += '  '\n",
    "        res += '\\n'\n",
    "    return res\n",
    "\n",
    "n = 5\n",
    "print(pattern7(n))\n"
   ]
  },
  {
   "cell_type": "code",
   "execution_count": 8,
   "id": "bbe29b69",
   "metadata": {},
   "outputs": [
    {
     "name": "stdout",
     "output_type": "stream",
     "text": [
      "* * * * * * * * * \n",
      "  * * * * * * *   \n",
      "    * * * * *     \n",
      "      * * *       \n",
      "        *         \n",
      "\n"
     ]
    }
   ],
   "source": [
    "def pattern8(n):\n",
    "    res = \"\"\n",
    "    for i in range(n):#it simply takes n=5 rows\n",
    "        for j in range(i):#it shows it will print 0->(0,0), 1->(0,1), 2->(0,2),3->(0,3), 4->(0,4)\n",
    "            res += '  '\n",
    "        for j in range(2*n-(2*i+1)):#it shows it will print 0->(2*5-2*0+1=9), 1->(2*5-2*1+1=7), 2->(2*5-2*2+1=5), 3->(2*5-2*3+1=3), 4->(2*5-2*4+1=1)\n",
    "            res += '* '\n",
    "        for j in range(i):#after space\n",
    "            res += '  '\n",
    "        res += '\\n'\n",
    "    return res\n",
    "\n",
    "n = 5\n",
    "print(pattern8(n))\n"
   ]
  },
  {
   "cell_type": "code",
   "execution_count": 9,
   "id": "90bcf0a0",
   "metadata": {},
   "outputs": [
    {
     "name": "stdout",
     "output_type": "stream",
     "text": [
      "solution 1:\n",
      "\n",
      "        *         \n",
      "      * * *       \n",
      "    * * * * *     \n",
      "  * * * * * * *   \n",
      "* * * * * * * * * \n",
      "* * * * * * * * * \n",
      "  * * * * * * *   \n",
      "    * * * * *     \n",
      "      * * *       \n",
      "        *         \n",
      "\n",
      "solution 2:\n",
      "\n",
      "        *         \n",
      "      * * *       \n",
      "    * * * * *     \n",
      "  * * * * * * *   \n",
      "* * * * * * * * * \n",
      "* * * * * * * * * \n",
      "  * * * * * * *   \n",
      "    * * * * *     \n",
      "      * * *       \n",
      "        *         \n",
      "\n"
     ]
    }
   ],
   "source": [
    "print('solution 1:\\n')\n",
    "n=5\n",
    "print(pattern7(n) + pattern8(n))\n",
    "\n",
    "#or\n",
    "print('solution 2:\\n')\n",
    "def pattern9(n):\n",
    "    res = \"\"\n",
    "    for i in range(n):#it simply takes n=5 rows\n",
    "        for j in range(i,n-1):#it shows it will print 0->(0,4), 1->(1,4) or (0,3), 2->(2,4) or (0,2) ,3->(3,4) or (0,1),4->(4,4)\n",
    "            res += '  '\n",
    "        for j in range(2*i + 1):#it shows it will print 0->(2*0+1=1), 1->(2*1+1=3), 2->(2*2+1=5), 3->(2*3+1=7), 4->(2*4+1=9)\n",
    "            res += '* '\n",
    "        for j in range(i,n-1):#after space\n",
    "            res += '  '\n",
    "        res+='\\n'\n",
    "    for i in range(n):\n",
    "        for j in range(i):#after space\n",
    "            res += '  '\n",
    "        for j in range(2*n-(2*i+1)):#it shows it will print 0->(2*5-2*0+1=9), 1->(2*5-2*1+1=7), 2->(2*5-2*2+1=5), 3->(2*5-2*3+1=3), 4->(2*5-2*4+1=1)\n",
    "            res += '* '\n",
    "        for j in range(i):#after space\n",
    "            res += '  '\n",
    "        res += '\\n'\n",
    "    return res\n",
    "\n",
    "n = 5\n",
    "print(pattern9(n))"
   ]
  },
  {
   "cell_type": "code",
   "execution_count": 26,
   "id": "b0a42c1b",
   "metadata": {},
   "outputs": [
    {
     "name": "stdout",
     "output_type": "stream",
     "text": [
      "* \n",
      "* * \n",
      "* * * \n",
      "* * * * \n",
      "* * * * * \n",
      "* * * * \n",
      "* * * \n",
      "* * \n",
      "* \n",
      "\n",
      "* \n",
      "* * \n",
      "* * * \n",
      "* * * * \n",
      "* * * * * \n",
      "* * * * \n",
      "* * * \n",
      "* * \n",
      "* \n"
     ]
    }
   ],
   "source": [
    "print('solution 2:\\n')\n",
    "def pattern_1(n):\n",
    "    res=\"\"\n",
    "    for i in range(0,n):\n",
    "        for j in range(i+1):\n",
    "            res+='* '\n",
    "        res+='\\n'\n",
    "    for i in range(1,n):\n",
    "        for j in range(n-i):\n",
    "            res+='* '\n",
    "        res+='\\n'\n",
    "    return res\n",
    "\n",
    "n=5\n",
    "print(pattern_1(n))\n",
    "\n",
    "#OR\n",
    "print('solution 2:\\n')\n",
    "def half_diamond(n):\n",
    "    for i in range(n):\n",
    "        for j in range(i + 1):\n",
    "            print(\"* \", end=\"\")\n",
    "        print()\n",
    "    for i in range(n - 2, -1, -1):\n",
    "        for j in range(i + 1):\n",
    "            print(\"* \", end=\"\")\n",
    "        print()\n",
    "\n",
    "n = 5\n",
    "half_diamond(n)\n",
    "\n",
    "\n"
   ]
  },
  {
   "cell_type": "code",
   "execution_count": 29,
   "id": "ff273382",
   "metadata": {},
   "outputs": [
    {
     "name": "stdout",
     "output_type": "stream",
     "text": [
      "1  \n",
      "0  1  \n",
      "1  0  1  \n",
      "0  1  0  1  \n",
      "1  0  1  0  1  \n",
      "\n"
     ]
    }
   ],
   "source": [
    "def pattern12(n):\n",
    "    res=\"\"\n",
    "    start=1\n",
    "    for i in range(n):\n",
    "        if (i%2==0):\n",
    "            start=1\n",
    "        else:\n",
    "            start=0\n",
    "        for j in range(i+1):\n",
    "            res+=f'{start}  '\n",
    "            start=1 - start\n",
    "        res+='\\n'\n",
    "    return res\n",
    "n=5\n",
    "print(pattern12(n))        "
   ]
  },
  {
   "cell_type": "code",
   "execution_count": 111,
   "id": "cd611bd6",
   "metadata": {},
   "outputs": [
    {
     "name": "stdout",
     "output_type": "stream",
     "text": [
      "                \n",
      "1             1 \n",
      "1 2         2 1 \n",
      "1 2 3     3 2 1 \n",
      "1 2 3 4 4 3 2 1 \n",
      "\n"
     ]
    }
   ],
   "source": [
    "def pattern13(n):\n",
    "    res=\"\"\n",
    "    for i in range(n):\n",
    "        for j in range(1,i+1):\n",
    "            res+=f'{j} '\n",
    "        for j in range(2*(n-i-1)):\n",
    "            res+='  '\n",
    "        for j in range(i,0,-1):\n",
    "            res+=f'{j} '\n",
    "        res+='\\n'\n",
    "    return res\n",
    "\n",
    "n=5\n",
    "print(pattern13(n))"
   ]
  },
  {
   "cell_type": "code",
   "execution_count": 231,
   "id": "c38ac287",
   "metadata": {},
   "outputs": [
    {
     "name": "stdout",
     "output_type": "stream",
     "text": [
      "1 \n",
      "2 3 \n",
      "4 5 6 \n",
      "7 8 9 10 \n",
      "11 12 13 14 15 \n",
      "\n"
     ]
    }
   ],
   "source": [
    "def pattern14(n):\n",
    "    res=\"\"\n",
    "    num=0\n",
    "    for i in range(n):\n",
    "        for j in range(i+1):\n",
    "            num+=1\n",
    "            res+=f'{num} '\n",
    "        res+='\\n'\n",
    "    return res\n",
    "n=5\n",
    "print(pattern14(n))\n",
    "            "
   ]
  },
  {
   "cell_type": "code",
   "execution_count": 239,
   "id": "11c4a9b1",
   "metadata": {},
   "outputs": [
    {
     "name": "stdout",
     "output_type": "stream",
     "text": [
      "A \n",
      "A B \n",
      "A B C \n",
      "A B C D \n",
      "A B C D E \n",
      "\n"
     ]
    }
   ],
   "source": [
    "def pattern15(n):\n",
    "    res=\"\"\n",
    "    for i in range(n):\n",
    "        for j in range(i+1):\n",
    "            res+=f'{chr(j+65)} '\n",
    "        res+='\\n'\n",
    "    return res\n",
    "\n",
    "n=5\n",
    "print(pattern15(n))"
   ]
  },
  {
   "cell_type": "code",
   "execution_count": 326,
   "id": "d799fb8b",
   "metadata": {},
   "outputs": [
    {
     "name": "stdout",
     "output_type": "stream",
     "text": [
      "A B C D E \n",
      "A B C D \n",
      "A B C \n",
      "A B \n",
      "A \n",
      "\n",
      "A \n",
      "A B \n",
      "A B C \n",
      "A B C D \n",
      "A B C D E \n",
      "\n"
     ]
    }
   ],
   "source": [
    "def pattern16(n):\n",
    "    res=\"\"\n",
    "    for i in range(n):\n",
    "        for j in range(n-i):\n",
    "            res+=f'{chr(j+65)} '\n",
    "        res+='\\n'\n",
    "    return res\n",
    "n=5\n",
    "print(pattern16(n))"
   ]
  },
  {
   "cell_type": "code",
   "execution_count": 328,
   "id": "3269b148",
   "metadata": {},
   "outputs": [
    {
     "name": "stdout",
     "output_type": "stream",
     "text": [
      "for horizontal:\n",
      "\n",
      "A \n",
      "B B \n",
      "C C C \n",
      "D D D D \n",
      "E E E E E \n",
      "\n",
      "for vertical:\n",
      "\n",
      "A \n",
      "A B \n",
      "A B C \n",
      "A B C D \n",
      "A B C D E \n",
      "\n"
     ]
    }
   ],
   "source": [
    "print(\"for horizontal:\\n\")\n",
    "\n",
    "def pattern17(n):\n",
    "    res=\"\"\n",
    "    for i in range(n):\n",
    "        for j in range(i+1):\n",
    "            res+=f'{chr(i+(j+65))} '\n",
    "            i-=1\n",
    "        res+='\\n'\n",
    "    return res\n",
    "n=5\n",
    "print(pattern17(n))\n",
    "\n",
    "#also for\n",
    "print(\"for vertical:\\n\")\n",
    "def pattern17(n):\n",
    "    res=\"\"\n",
    "    for i in range(n):\n",
    "        for j in range(i+1):\n",
    "            res+=f'{chr((j+65))} '\n",
    "            i-=1\n",
    "        res+='\\n'\n",
    "    return res\n",
    "n=5\n",
    "print(pattern17(n))"
   ]
  },
  {
   "cell_type": "code",
   "execution_count": 348,
   "id": "5e2b5e09",
   "metadata": {},
   "outputs": [
    {
     "name": "stdout",
     "output_type": "stream",
     "text": [
      "        A         \n",
      "      A B A       \n",
      "    A B C B A     \n",
      "  A B C D C B A   \n",
      "A B C D E D C B A \n",
      "\n"
     ]
    }
   ],
   "source": [
    "def pattern18(n):\n",
    "    res=\"\"\n",
    "    for i in range(n):\n",
    "        for j in range(n-i-1):\n",
    "            res+='  '\n",
    "        for j in range(2*i+1):\n",
    "            if j<=i:\n",
    "                res+=f'{chr(j+65)} '\n",
    "            else:\n",
    "                res+=f'{chr(2*i-j+65)} '\n",
    "        for j in range(n-i-1):\n",
    "            res+='  '\n",
    "        res+='\\n'\n",
    "    return res\n",
    "n=5\n",
    "print(pattern18(n))"
   ]
  },
  {
   "cell_type": "code",
   "execution_count": 357,
   "id": "4f846486",
   "metadata": {},
   "outputs": [
    {
     "name": "stdout",
     "output_type": "stream",
     "text": [
      "E \n",
      "D E \n",
      "C D E \n",
      "B C D E \n",
      "A B C D E \n",
      "\n"
     ]
    }
   ],
   "source": [
    "def pattern19(n):\n",
    "    res=\"\"\n",
    "    for i in range(n):\n",
    "        for j in range(i+1):\n",
    "            res+=f'{chr(j+69-i)} '\n",
    "        res+='\\n'\n",
    "    return res\n",
    "n=5\n",
    "print(pattern19(n))"
   ]
  },
  {
   "cell_type": "code",
   "execution_count": 379,
   "id": "21510f08",
   "metadata": {},
   "outputs": [
    {
     "name": "stdout",
     "output_type": "stream",
     "text": [
      "* * * * *   * * * * * \n",
      "* * * *       * * * * \n",
      "* * *           * * * \n",
      "* *               * * \n",
      "*                   * \n",
      "*                   * \n",
      "* *               * * \n",
      "* * *           * * * \n",
      "* * * *       * * * * \n",
      "* * * * *   * * * * * \n",
      "\n"
     ]
    }
   ],
   "source": [
    "def pattern18(n):\n",
    "    res=\"\"\n",
    "    for i in range(n):\n",
    "        for j in range(n-i):\n",
    "            res+='* '\n",
    "        for j in range(2*i+1):\n",
    "            res+='  '\n",
    "        for j in range(n-i):\n",
    "            res+='* '\n",
    "        res+='\\n'\n",
    "    for i in range(n):\n",
    "        for j in range(i+1):\n",
    "            res+='* '\n",
    "        for j in range(2*n-(2*i+1)):\n",
    "            res+='  '\n",
    "        for j in range(i+1):\n",
    "            res+='* '\n",
    "        res+='\\n'\n",
    "    return res\n",
    "\n",
    "n=5\n",
    "print(pattern18(n))"
   ]
  },
  {
   "cell_type": "code",
   "execution_count": 397,
   "id": "84cd9483",
   "metadata": {},
   "outputs": [
    {
     "name": "stdout",
     "output_type": "stream",
     "text": [
      "*                   * \n",
      "* *               * * \n",
      "* * *           * * * \n",
      "* * * *       * * * * \n",
      "* * * * *   * * * * * \n",
      "* * * *       * * * * \n",
      "* * *           * * * \n",
      "* *               * * \n",
      "*                   * \n",
      "                      \n",
      "\n"
     ]
    }
   ],
   "source": [
    "def pattern18(n):\n",
    "    res=\"\"\n",
    "    for i in range(n):\n",
    "        for j in range(i+1):\n",
    "            res+='* '\n",
    "        for j in range(2*n-(2*i+1)):\n",
    "            res+='  '\n",
    "        for j in range(i+1):\n",
    "            res+='* '\n",
    "        res+='\\n'\n",
    "    for i in range(n):\n",
    "        i+=1\n",
    "        for j in range(n-i):\n",
    "            res+='* '\n",
    "        for j in range(2*i+1):\n",
    "            res+='  '\n",
    "        for j in range(n-i):\n",
    "            res+='* '\n",
    "        res+='\\n'\n",
    "    return res\n",
    "\n",
    "n=5\n",
    "print(pattern18(n))"
   ]
  },
  {
   "cell_type": "code",
   "execution_count": 405,
   "id": "67d649db",
   "metadata": {},
   "outputs": [
    {
     "name": "stdout",
     "output_type": "stream",
     "text": [
      "* * * * \n",
      "*     * \n",
      "*     * \n",
      "* * * * \n",
      "\n"
     ]
    }
   ],
   "source": [
    "def pattern21(n):\n",
    "    res=\"\"\n",
    "    for i in range(n):\n",
    "        for j in range(n):\n",
    "            if i==0:\n",
    "                res+='* '\n",
    "            elif i==n-1:\n",
    "                res+='* '\n",
    "            elif j==0:\n",
    "                res+='* '\n",
    "            elif j==n-1:\n",
    "                res+='* '\n",
    "            else:\n",
    "                res+='  '\n",
    "        res+='\\n'\n",
    "    return res\n",
    "\n",
    "n=4\n",
    "print(pattern21(n))"
   ]
  },
  {
   "cell_type": "code",
   "execution_count": 417,
   "id": "f508dd9e",
   "metadata": {},
   "outputs": [
    {
     "name": "stdout",
     "output_type": "stream",
     "text": [
      "4 4 4 4 4 4 4 \n",
      "4 3 3 3 3 3 4 \n",
      "4 3 2 2 2 3 4 \n",
      "4 3 2 1 2 3 4 \n",
      "4 3 2 2 2 3 4 \n",
      "4 3 3 3 3 3 4 \n",
      "4 4 4 4 4 4 4 \n",
      "\n"
     ]
    }
   ],
   "source": [
    "def pattern22(n):\n",
    "    res=\"\"\n",
    "    for i in range(2*n-1):\n",
    "        for j in range(2*n-1):\n",
    "            a=min(i,j,2*n-2-i,2*n-2-j)\n",
    "            res+=f'{n-a} '\n",
    "        res+='\\n'\n",
    "    return res\n",
    "n=4\n",
    "print(pattern22(n))   "
   ]
  },
  {
   "cell_type": "code",
   "execution_count": null,
   "id": "550d2b21",
   "metadata": {},
   "outputs": [],
   "source": []
  },
  {
   "cell_type": "code",
   "execution_count": null,
   "id": "256cfb34",
   "metadata": {},
   "outputs": [],
   "source": []
  }
 ],
 "metadata": {
  "kernelspec": {
   "display_name": "Python 3 (ipykernel)",
   "language": "python",
   "name": "python3"
  },
  "language_info": {
   "codemirror_mode": {
    "name": "ipython",
    "version": 3
   },
   "file_extension": ".py",
   "mimetype": "text/x-python",
   "name": "python",
   "nbconvert_exporter": "python",
   "pygments_lexer": "ipython3",
   "version": "3.10.9"
  }
 },
 "nbformat": 4,
 "nbformat_minor": 5
}
