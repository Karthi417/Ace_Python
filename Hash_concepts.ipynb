{
  "nbformat": 4,
  "nbformat_minor": 0,
  "metadata": {
    "colab": {
      "provenance": [],
      "authorship_tag": "ABX9TyNIjRQSDeGXeHtP6Vt/Ttjg",
      "include_colab_link": true
    },
    "kernelspec": {
      "name": "python3",
      "display_name": "Python 3"
    },
    "language_info": {
      "name": "python"
    }
  },
  "cells": [
    {
      "cell_type": "markdown",
      "metadata": {
        "id": "view-in-github",
        "colab_type": "text"
      },
      "source": [
        "<a href=\"https://colab.research.google.com/github/Karthi417/Ace_Python/blob/main/Hash_concepts.ipynb\" target=\"_parent\"><img src=\"https://colab.research.google.com/assets/colab-badge.svg\" alt=\"Open In Colab\"/></a>"
      ]
    },
    {
      "cell_type": "code",
      "execution_count": 19,
      "metadata": {
        "colab": {
          "base_uri": "https://localhost:8080/"
        },
        "id": "IGYYiBwsVEr2",
        "outputId": "10582b5c-d865-4647-e0fb-0df3669db4c5"
      },
      "outputs": [
        {
          "output_type": "execute_result",
          "data": {
            "text/plain": [
              "3"
            ]
          },
          "metadata": {},
          "execution_count": 19
        }
      ],
      "source": [
        "#number hashing\n",
        "def cnt(arr,k):\n",
        "  hash={}\n",
        "  for i in range(len(arr)):\n",
        "    if arr[i]==k:\n",
        "      if arr[i] not in hash:\n",
        "        hash[arr[i]]=1\n",
        "      else:\n",
        "        hash[arr[i]]+=1\n",
        "  return hash.get(k,0)\n",
        "\n",
        "cnt(arr=[1,2,1,1,3],k=1)"
      ]
    },
    {
      "cell_type": "code",
      "source": [
        "#character hashing\n",
        "def cha(a,k):\n",
        "  hash={}\n",
        "  for c in a:\n",
        "    if c==k:\n",
        "      if c not in hash:\n",
        "        hash[c]=1\n",
        "      else:\n",
        "        hash[c]+=1\n",
        "  return hash.get(k,0)\n",
        "\n",
        "cha(a=\"aabbaa\",k='b')"
      ],
      "metadata": {
        "colab": {
          "base_uri": "https://localhost:8080/"
        },
        "id": "9RfTs_NnhqcV",
        "outputId": "e8e5590b-a33c-4fdd-ba9a-770e4b9bb234"
      },
      "execution_count": 47,
      "outputs": [
        {
          "output_type": "execute_result",
          "data": {
            "text/plain": [
              "2"
            ]
          },
          "metadata": {},
          "execution_count": 47
        }
      ]
    }
  ]
}