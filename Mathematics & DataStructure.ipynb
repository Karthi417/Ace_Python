{
 "cells": [
  {
   "cell_type": "code",
   "execution_count": 1,
   "id": "6a13f656",
   "metadata": {},
   "outputs": [
    {
     "name": "stdout",
     "output_type": "stream",
     "text": [
      "task2\n",
      "task3\n",
      "task1\n",
      "True\n"
     ]
    }
   ],
   "source": [
    "import heapq\n",
    "\n",
    "class PriorityQueue:\n",
    "    def __init__(self):\n",
    "        self.elements = []\n",
    "\n",
    "    def push(self, item, priority):\n",
    "        heapq.heappush(self.elements, (priority, item))\n",
    "\n",
    "    def pop(self):\n",
    "        return heapq.heappop(self.elements)[1]\n",
    "\n",
    "    def is_empty(self):\n",
    "        return len(self.elements) == 0\n",
    "\n",
    "# Creating a priority queue\n",
    "pq = PriorityQueue()\n",
    "\n",
    "# Pushing elements into the priority queue with priorities\n",
    "pq.push('task1', 3)\n",
    "pq.push('task2', 1)\n",
    "pq.push('task3', 2)\n",
    "\n",
    "# Popping elements from the priority queue\n",
    "print(pq.pop())  # Output: 'task2' (popped because it has the highest priority)\n",
    "print(pq.pop())  # Output: 'task3'\n",
    "print(pq.pop())  # Output: 'task1'\n",
    "\n",
    "# Checking if the priority queue is empty\n",
    "print(pq.is_empty())  # Output: True\n"
   ]
  },
  {
   "cell_type": "code",
   "execution_count": 2,
   "id": "dfc41881",
   "metadata": {},
   "outputs": [
    {
     "name": "stdout",
     "output_type": "stream",
     "text": [
      "Queue after enqueueing elements: deque([1, 2, 3])\n",
      "Dequeued element: 1\n",
      "Queue after dequeuing element: deque([2, 3])\n",
      "Front element of the queue: 2\n",
      "Is the queue empty? False\n"
     ]
    }
   ],
   "source": [
    "from collections import deque\n",
    "\n",
    "queue = deque()  # Creating an empty queue\n",
    "\n",
    "# Enqueueing elements into the queue\n",
    "queue.append(1)\n",
    "queue.append(2)\n",
    "queue.append(3)\n",
    "print(\"Queue after enqueueing elements:\", queue)\n",
    "\n",
    "# Dequeueing an element from the queue\n",
    "dequeued_element = queue.popleft()\n",
    "print(\"Dequeued element:\", dequeued_element)\n",
    "print(\"Queue after dequeuing element:\", queue)\n",
    "\n",
    "# Peeking at the front element of the queue\n",
    "front_element = queue[0]\n",
    "print(\"Front element of the queue:\", front_element)\n",
    "\n",
    "# Checking if the queue is empty\n",
    "is_empty = len(queue) == 0\n",
    "print(\"Is the queue empty?\", is_empty)\n"
   ]
  },
  {
   "cell_type": "code",
   "execution_count": 3,
   "id": "320c58a4",
   "metadata": {},
   "outputs": [
    {
     "name": "stdout",
     "output_type": "stream",
     "text": [
      "Stack after pushing elements: [1, 2, 3]\n",
      "Popped element: 3\n",
      "Stack after popping element: [1, 2]\n",
      "Top element of the stack: 2\n",
      "Is the stack empty? False\n"
     ]
    }
   ],
   "source": [
    "stack = []  # Creating an empty stack\n",
    "\n",
    "# Pushing elements onto the stack\n",
    "stack.append(1)\n",
    "stack.append(2)\n",
    "stack.append(3)\n",
    "print(\"Stack after pushing elements:\", stack)\n",
    "\n",
    "# Popping an element from the stack\n",
    "popped_element = stack.pop()\n",
    "print(\"Popped element:\", popped_element)\n",
    "print(\"Stack after popping element:\", stack)\n",
    "\n",
    "# Peeking at the top element of the stack\n",
    "top_element = stack[-1]\n",
    "print(\"Top element of the stack:\", top_element)\n",
    "\n",
    "# Checking if the stack is empty\n",
    "is_empty = len(stack) == 0\n",
    "print(\"Is the stack empty?\", is_empty)\n"
   ]
  },
  {
   "cell_type": "code",
   "execution_count": 4,
   "id": "88a64cc7",
   "metadata": {},
   "outputs": [
    {
     "name": "stdout",
     "output_type": "stream",
     "text": [
      "{1, 2, 3, 4, 5}\n",
      "{1, 2, 3, 4, 5, 6}\n",
      "{1, 2, 4, 5, 6}\n",
      "True\n",
      "False\n",
      "{1, 2, 3, 4, 5, 6, 7, 8}\n",
      "{4, 5}\n",
      "{1, 2, 3}\n",
      "{1, 2, 3, 6, 7, 8}\n"
     ]
    }
   ],
   "source": [
    "# Creating a set\n",
    "my_set = {1, 2, 3, 4, 5}\n",
    "print(my_set)  # Output: {1, 2, 3, 4, 5}\n",
    "\n",
    "# Adding elements to a set\n",
    "my_set.add(6)\n",
    "print(my_set)  # Output: {1, 2, 3, 4, 5, 6}\n",
    "\n",
    "# Removing elements from a set\n",
    "my_set.remove(3)\n",
    "print(my_set)  # Output: {1, 2, 4, 5, 6}\n",
    "\n",
    "# Checking if an element is in a set\n",
    "print(4 in my_set)  # Output: True\n",
    "print(7 in my_set)  # Output: False\n",
    "\n",
    "# Set operations\n",
    "set1 = {1, 2, 3, 4, 5}\n",
    "set2 = {4, 5, 6, 7, 8}\n",
    "\n",
    "# Union\n",
    "union_set = set1.union(set2)\n",
    "print(union_set)  # Output: {1, 2, 3, 4, 5, 6, 7, 8}\n",
    "\n",
    "# Intersection\n",
    "intersection_set = set1.intersection(set2)\n",
    "print(intersection_set)  # Output: {4, 5}\n",
    "\n",
    "# Difference\n",
    "difference_set = set1.difference(set2)\n",
    "print(difference_set)  # Output: {1, 2, 3}\n",
    "\n",
    "# Symmetric Difference\n",
    "symmetric_difference_set = set1.symmetric_difference(set2)\n",
    "print(symmetric_difference_set)  # Output: {1, 2, 3, 6, 7, 8}\n"
   ]
  },
  {
   "cell_type": "code",
   "execution_count": 5,
   "id": "1a28d881",
   "metadata": {},
   "outputs": [
    {
     "name": "stdout",
     "output_type": "stream",
     "text": [
      "2\n",
      "True\n",
      "1\n",
      "these are the elements:\n",
      "1\n",
      "2\n"
     ]
    }
   ],
   "source": [
    "from collections import Counter, defaultdict\n",
    "\n",
    "class Multiset:\n",
    "    def __init__(self):\n",
    "        self.counter = Counter()\n",
    "        self.elements = defaultdict(set)\n",
    "\n",
    "    def add(self, value):\n",
    "        self.counter[value] += 1\n",
    "        self.elements[value].add(len(self.elements[value]) + 1)\n",
    "\n",
    "    def remove(self, value):\n",
    "        if self.counter[value] > 0:\n",
    "            self.counter[value] -= 1\n",
    "            self.elements[value].remove(len(self.elements[value]))\n",
    "\n",
    "    def count(self, value):\n",
    "        return self.counter[value]\n",
    "\n",
    "    def __contains__(self, value):\n",
    "        return self.counter[value] > 0\n",
    "\n",
    "    def __iter__(self):\n",
    "        for value, count in self.counter.items():\n",
    "            for _ in range(count):\n",
    "                yield value\n",
    "\n",
    "# Using the Multiset\n",
    "ms = Multiset()\n",
    "ms.add(1)\n",
    "ms.add(2)\n",
    "ms.add(1)\n",
    "print(ms.count(1))  # Output: 2\n",
    "\n",
    "ms.remove(1)\n",
    "print(1 in ms)      # Output: True\n",
    "print(ms.count(1))  # Output: 1\n",
    "\n",
    "print(\"these are the elements:\")\n",
    "for elem in ms:\n",
    "    print(elem)"
   ]
  },
  {
   "cell_type": "code",
   "execution_count": 6,
   "id": "37c0c66b",
   "metadata": {},
   "outputs": [
    {
     "name": "stdout",
     "output_type": "stream",
     "text": [
      "{'a': 1, 'b': 2, 'c': 3}\n",
      "1\n",
      "{'a': 1, 'b': 2, 'c': 3, 'd': 4}\n",
      "{'a': 1, 'b': 20, 'c': 3, 'd': 4}\n",
      "{'a': 1, 'b': 20, 'd': 4}\n",
      "True\n",
      "False\n",
      "test 1\n",
      "a 1\n",
      "b 20\n",
      "d 4\n",
      "test 2\n",
      "a 1\n",
      "b 20\n",
      "d 4\n"
     ]
    }
   ],
   "source": [
    "# Creating a dictionary\n",
    "my_dict = {'a': 1, 'b': 2, 'c': 3}\n",
    "print(my_dict)  # Output: {'a': 1, 'b': 2, 'c': 3}\n",
    "\n",
    "# Accessing values in a dictionary\n",
    "print(my_dict['a'])  # Output: 1\n",
    "\n",
    "# Adding a new key-value pair to a dictionary\n",
    "my_dict['d'] = 4\n",
    "print(my_dict)  # Output: {'a': 1, 'b': 2, 'c': 3, 'd': 4}\n",
    "\n",
    "# Updating the value of an existing key\n",
    "my_dict['b'] = 20\n",
    "print(my_dict)  # Output: {'a': 1, 'b': 20, 'c': 3, 'd': 4}\n",
    "\n",
    "# Removing a key-value pair from a dictionary\n",
    "del my_dict['c']\n",
    "print(my_dict)  # Output: {'a': 1, 'b': 20, 'd': 4}\n",
    "\n",
    "# Checking if a key is in the dictionary\n",
    "print('b' in my_dict)  # Output: True\n",
    "print('e' in my_dict)  # Output: False\n",
    "print(\"test 1\")\n",
    "# Iterating over keys in a dictionary\n",
    "for key in my_dict:\n",
    "    print(key, my_dict[key])\n",
    "\n",
    "print(\"test 2\")\n",
    "\n",
    "# Iterating over key-value pairs in a dictionary\n",
    "for key, value in my_dict.items():\n",
    "    print(key, value)\n"
   ]
  },
  {
   "cell_type": "code",
   "execution_count": 7,
   "id": "5599e615",
   "metadata": {},
   "outputs": [
    {
     "name": "stdout",
     "output_type": "stream",
     "text": [
      "[1, 2]\n",
      "[3]\n",
      "[4, 5]\n",
      "[2]\n"
     ]
    }
   ],
   "source": [
    "from collections import defaultdict\n",
    "\n",
    "class MultiMap:\n",
    "    def __init__(self):\n",
    "        self.mapping = defaultdict(list)\n",
    "\n",
    "    def add(self, key, value):\n",
    "        self.mapping[key].append(value)\n",
    "\n",
    "    def get(self, key):\n",
    "        return self.mapping.get(key, [])\n",
    "\n",
    "    def remove(self, key, value):\n",
    "        if key in self.mapping:\n",
    "            self.mapping[key].remove(value)\n",
    "\n",
    "# Creating a multimap\n",
    "mm = MultiMap()\n",
    "mm.add('a', 1)\n",
    "mm.add('a', 2)\n",
    "mm.add('b', 3)\n",
    "mm.add('c', 4)\n",
    "mm.add('c', 5)\n",
    "\n",
    "# Getting values associated with keys\n",
    "print(mm.get('a'))  # Output: [1, 2]\n",
    "print(mm.get('b'))  # Output: [3]\n",
    "print(mm.get('c'))  # Output: [4, 5]\n",
    "\n",
    "# Removing a value from a key\n",
    "mm.remove('a', 1)\n",
    "print(mm.get('a'))  # Output: [2]\n"
   ]
  },
  {
   "cell_type": "code",
   "execution_count": 8,
   "id": "90ed01d0",
   "metadata": {},
   "outputs": [
    {
     "name": "stdout",
     "output_type": "stream",
     "text": [
      "[[4, 1], [2, 1], [1, 2]]\n",
      "[[4, 1], [2, 1], [1, 2]]\n"
     ]
    }
   ],
   "source": [
    "def sorting(n):\n",
    "    s=sorted(n,key=lambda x:(x[1],-x[0]))\n",
    "    return s\n",
    "\n",
    "a=[[1,2],[4,1],[2,1]]\n",
    "print(sorting(a))\n",
    "\n",
    "#single line: return sorted(n,key=lambda x;(x[1],-x[0]))\n",
    "\n",
    "#or if they told you to don't use sort() fnct, then:\n",
    "def sorting2(n):\n",
    "    for i in range(len(n)):\n",
    "        for j in range(0,len(n)-i-1):\n",
    "            if n[j][1]>n[j+1][1] or (n[j][1]==n[j+1][1] and n[j][0]<n[j+1][0]):\n",
    "                n[j],n[j+1]=n[j+1],n[j]\n",
    "    return n\n",
    "s=[[1,2],[4,1],[2,1]]\n",
    "print(sorting2(s))      "
   ]
  },
  {
   "cell_type": "code",
   "execution_count": 9,
   "id": "c95a41da",
   "metadata": {},
   "outputs": [
    {
     "name": "stdout",
     "output_type": "stream",
     "text": [
      "101\n",
      "1111\n"
     ]
    }
   ],
   "source": [
    "def popcount(n):\n",
    "    binary_str = bin(n)[2:]  # Convert to binary and remove '0b' prefix\n",
    "    return binary_str\n",
    "\n",
    "# Example usage\n",
    "print(popcount(5))  # Output: 2 (5 in binary is '101', which has 2 set bits)\n",
    "print(popcount(15)) # Output: 4 (15 in binary is '1111', which has 4 set bits)\n"
   ]
  },
  {
   "cell_type": "code",
   "execution_count": 10,
   "id": "4b53e740",
   "metadata": {},
   "outputs": [
    {
     "name": "stdout",
     "output_type": "stream",
     "text": [
      "['abc', 'acb', 'bac', 'bca', 'cab', 'cba']\n",
      "['abc', 'acb', 'bac', 'bca', 'cab', 'cba']\n"
     ]
    }
   ],
   "source": [
    "def permutations(s):\n",
    "    if len(s) <= 1:\n",
    "        return [s]\n",
    "    perms = []\n",
    "    for i in range(len(s)):\n",
    "        for perm in permutations(s[:i] + s[i+1:]):\n",
    "            perms.append(s[i] + perm)\n",
    "    return perms\n",
    "\n",
    "# Example usage\n",
    "s = \"abc\"\n",
    "print(permutations(s))\n",
    "\n",
    "#or\n",
    "\n",
    "from itertools import permutations\n",
    "\n",
    "def all_permutations(s):\n",
    "    return [''.join(p) for p in permutations(s)]\n",
    "\n",
    "# Example usage\n",
    "s = \"abc\"\n",
    "print(all_permutations(s))\n"
   ]
  },
  {
   "cell_type": "code",
   "execution_count": 11,
   "id": "60a8cedd",
   "metadata": {
    "scrolled": true
   },
   "outputs": [
    {
     "name": "stdout",
     "output_type": "stream",
     "text": [
      "before: 0\n",
      "after: 7\n",
      "before: 7\n",
      "after: 77\n",
      "before: 77\n",
      "after: 778\n",
      "before: 778\n",
      "after: 7789\n",
      "7789\n",
      "before: 0\n",
      "after: 1\n",
      "before: 1\n",
      "after: 2\n",
      "before: 2\n",
      "after: 3\n",
      "before: 3\n",
      "after: 4\n",
      "count of th edigit: 4\n",
      "by other way: 4\n"
     ]
    }
   ],
   "source": [
    "def digit(n):\n",
    "    res=0\n",
    "    while n>0:\n",
    "        lst_digit=n%10\n",
    "        print('before:',res)\n",
    "        res = res*10 + lst_digit\n",
    "        print('after:',res)\n",
    "        n=n//10\n",
    "    return res\n",
    "n=9877\n",
    "print(digit(n))\n",
    "\n",
    "#to return count\n",
    "def digit1(n):\n",
    "    res=0\n",
    "    while n>0:\n",
    "        lst_digit=n%10\n",
    "        print('before:',res)\n",
    "        res +=1\n",
    "        print('after:',res)\n",
    "        n=n//10\n",
    "    return res\n",
    "n=9877\n",
    "print('count of th edigit:',digit1(n))\n",
    "\n",
    "#other way to count digit\n",
    "from math import log10\n",
    "def digit2(n):\n",
    "    return int(log10(n)+1)\n",
    "\n",
    "n=9877\n",
    "print('by other way:',digit2(n))\n"
   ]
  },
  {
   "cell_type": "code",
   "execution_count": 12,
   "id": "51c5a8ba",
   "metadata": {},
   "outputs": [
    {
     "name": "stdout",
     "output_type": "stream",
     "text": [
      "initial dup: 9889\n",
      "after reverse: 9889\n",
      "after n: 0\n",
      "True\n"
     ]
    }
   ],
   "source": [
    "def palindrome_num(n):\n",
    "    res=0\n",
    "    dup=n\n",
    "    print('initial dup:',dup)\n",
    "    while n>0:\n",
    "        lst_dig=n%10\n",
    "        res = res*10 + lst_dig\n",
    "        n=n//10\n",
    "    print('after reverse:',res)\n",
    "    print('after n:',n)\n",
    "    \n",
    "    if (res==dup): return True\n",
    "    else: return False\n",
    "    \n",
    "n=9889\n",
    "print(palindrome_num(n))"
   ]
  },
  {
   "cell_type": "code",
   "execution_count": 13,
   "id": "291ce2c2",
   "metadata": {},
   "outputs": [
    {
     "name": "stdout",
     "output_type": "stream",
     "text": [
      "initial dup: 371\n",
      "after sum of cubes: 371\n",
      "after n: 0\n",
      "True\n"
     ]
    }
   ],
   "source": [
    "def armstrong_num(n):\n",
    "    res=0\n",
    "    dup=n\n",
    "    print('initial dup:',dup)\n",
    "    while n>0:\n",
    "        lst_dig=n%10\n",
    "        res = res + lst_dig**3 #just implementing the concepts of armstrong(sum of cubes)\n",
    "        n=n//10\n",
    "    print('after sum of cubes:',res)\n",
    "    print('after n:',n)\n",
    "    \n",
    "    if (res==dup): return True\n",
    "    else: return False\n",
    "    \n",
    "n=371\n",
    "print(armstrong_num(n))"
   ]
  },
  {
   "cell_type": "code",
   "execution_count": 14,
   "id": "31823cd0",
   "metadata": {},
   "outputs": [
    {
     "name": "stdout",
     "output_type": "stream",
     "text": [
      "which are all the divisors of 36: [1, 2, 3, 4, 6, 9, 12, 18]\n"
     ]
    }
   ],
   "source": [
    "#to get all the divisors\n",
    "def divisors1(n):\n",
    "    arr1=[]\n",
    "    for i in range(1,n):\n",
    "        if n%i==0:\n",
    "            arr1.append(i)\n",
    "    return arr1\n",
    "\n",
    "n=36\n",
    "print(f\"which are all the divisors of {n}:\",divisors1(n))"
   ]
  },
  {
   "cell_type": "code",
   "execution_count": 15,
   "id": "dc612aa9",
   "metadata": {},
   "outputs": [
    {
     "name": "stdout",
     "output_type": "stream",
     "text": [
      "True\n",
      "True\n"
     ]
    }
   ],
   "source": [
    "def is_prime(num):\n",
    "    if num < 2:\n",
    "        return False\n",
    "    for i in range(2, int(num**0.5) + 1):\n",
    "        if num % i == 0:\n",
    "            return False\n",
    "    return True\n",
    "\n",
    "n = 103\n",
    "print(is_prime(n))\n",
    "\n",
    "#or\n",
    "#using count\n",
    "def is_prime2(n):\n",
    "    cnt=0\n",
    "    for i in range(1,int(n**0.5)+1):\n",
    "        if n%i==0:\n",
    "            cnt+=1\n",
    "            if (n/i) != i:\n",
    "                cnt+=1\n",
    "    if cnt==2: return True\n",
    "    else: return False\n",
    "\n",
    "n=11\n",
    "print(is_prime2(n))\n",
    "\n",
    "#time complexity of both function is O(sqrt(n))"
   ]
  },
  {
   "cell_type": "code",
   "execution_count": 16,
   "id": "67de9d45",
   "metadata": {},
   "outputs": [
    {
     "name": "stdout",
     "output_type": "stream",
     "text": [
      "12\n"
     ]
    }
   ],
   "source": [
    "#to find gcd/hcf\n",
    "def gc(n1,n2):\n",
    "    for i in range(min(n1,n2),0,-1):\n",
    "        if (n1%i==0) and (n2%i==0):\n",
    "            return i\n",
    "    return 1\n",
    "\n",
    "n1,n2=36,24\n",
    "print(gc(n1,n2))"
   ]
  },
  {
   "cell_type": "code",
   "execution_count": 17,
   "id": "083fb9c0",
   "metadata": {},
   "outputs": [
    {
     "name": "stdout",
     "output_type": "stream",
     "text": [
      "12\n"
     ]
    }
   ],
   "source": [
    "#using euclidean to find same gcd\n",
    "def gc2(n1,n2):\n",
    "    a=n1\n",
    "    b=n2\n",
    "    while(a>0 and b>0):\n",
    "        if a>b:\n",
    "            a=a%b\n",
    "        else: b=b%a\n",
    "    if a==0: return b\n",
    "    else: return a\n",
    "\n",
    "n1,n2=36,24\n",
    "print(gc2(n1,n2))"
   ]
  },
  {
   "cell_type": "code",
   "execution_count": null,
   "id": "c7fa0b5f",
   "metadata": {},
   "outputs": [],
   "source": []
  }
 ],
 "metadata": {
  "kernelspec": {
   "display_name": "Python 3 (ipykernel)",
   "language": "python",
   "name": "python3"
  },
  "language_info": {
   "codemirror_mode": {
    "name": "ipython",
    "version": 3
   },
   "file_extension": ".py",
   "mimetype": "text/x-python",
   "name": "python",
   "nbconvert_exporter": "python",
   "pygments_lexer": "ipython3",
   "version": "3.10.9"
  }
 },
 "nbformat": 4,
 "nbformat_minor": 5
}
