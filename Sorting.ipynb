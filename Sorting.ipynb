{
  "nbformat": 4,
  "nbformat_minor": 0,
  "metadata": {
    "colab": {
      "provenance": [],
      "authorship_tag": "ABX9TyOpb5MrYJQ9GRS+zfjzVUKz",
      "include_colab_link": true
    },
    "kernelspec": {
      "name": "python3",
      "display_name": "Python 3"
    },
    "language_info": {
      "name": "python"
    }
  },
  "cells": [
    {
      "cell_type": "markdown",
      "metadata": {
        "id": "view-in-github",
        "colab_type": "text"
      },
      "source": [
        "<a href=\"https://colab.research.google.com/github/Karthi417/Ace_Python/blob/main/Sorting.ipynb\" target=\"_parent\"><img src=\"https://colab.research.google.com/assets/colab-badge.svg\" alt=\"Open In Colab\"/></a>"
      ]
    },
    {
      "cell_type": "code",
      "execution_count": 25,
      "metadata": {
        "colab": {
          "base_uri": "https://localhost:8080/"
        },
        "id": "3eLss51sujHL",
        "outputId": "5da4f5a9-dc4c-4191-ff4e-430c7f06c6d3"
      },
      "outputs": [
        {
          "output_type": "stream",
          "name": "stdout",
          "text": [
            "[4, 5, 20, 25, 34]\n"
          ]
        }
      ],
      "source": [
        "#Selection sort\n",
        "def selections(arr):\n",
        "  n=len(arr)\n",
        "  for i in range(n):\n",
        "    mini=i\n",
        "    for j in range(i+1,n):\n",
        "      if arr[j]<arr[mini]:\n",
        "        mini=j\n",
        "    arr[mini],arr[i]=arr[i],arr[mini]\n",
        "  return arr\n",
        "\n",
        "arr=[5,4,20,34,25]\n",
        "print(selections(arr))"
      ]
    },
    {
      "cell_type": "code",
      "source": [
        "#bubble sort\n",
        "def bubbles(arr):\n",
        "  n=len(arr)\n",
        "  for i in range(n):\n",
        "    didswap=0\n",
        "    for j in range(n-1):\n",
        "      if arr[j]>arr[j+1]:\n",
        "        arr[j+1],arr[j]=arr[j],arr[j+1]\n",
        "        didswap=1\n",
        "    if didswap==0: break\n",
        "  return arr\n",
        "\n",
        "arr=[2,3,4,5,6]\n",
        "print(bubbles(arr))"
      ],
      "metadata": {
        "colab": {
          "base_uri": "https://localhost:8080/"
        },
        "id": "zVpCpn2KyQ0A",
        "outputId": "c23f3373-7219-4290-a2ae-ae714a21d83f"
      },
      "execution_count": 26,
      "outputs": [
        {
          "output_type": "stream",
          "name": "stdout",
          "text": [
            "[2, 3, 4, 5, 6]\n"
          ]
        }
      ]
    },
    {
      "cell_type": "code",
      "source": [
        "#insertion sort\n",
        "def insertions(arr):\n",
        "  n=len(arr)\n",
        "  for i in range(n):\n",
        "    j=i\n",
        "    while (j>0 and arr[j-1]>arr[j]):\n",
        "      arr[j-1],arr[j]=arr[j],arr[j-1]\n",
        "      j-=1\n",
        "  return arr\n",
        "arr=[14,1,5,3,7]\n",
        "print(insertions(arr))"
      ],
      "metadata": {
        "colab": {
          "base_uri": "https://localhost:8080/"
        },
        "id": "3VFrfXP34TNf",
        "outputId": "5018e8e8-30cb-485a-ea36-5636e436d78c"
      },
      "execution_count": 27,
      "outputs": [
        {
          "output_type": "stream",
          "name": "stdout",
          "text": [
            "[1, 3, 5, 7, 14]\n"
          ]
        }
      ]
    },
    {
      "cell_type": "code",
      "source": [
        "#merge sort\n",
        "def mergesort(arr,low,high):\n",
        "  if low>=high: return\n",
        "  mid=(low+high)//2\n",
        "  mergesort(arr,low,mid)\n",
        "  mergesort(arr,mid+1,high)\n",
        "  merge(arr,low,mid,high)\n",
        "\n",
        "def merge(arr,low,mid,high):\n",
        "  temp=[]\n",
        "  left=low\n",
        "  right=mid+1\n",
        "  while(left<=mid and right <=high):\n",
        "    if arr[left]<=arr[right]:\n",
        "      temp.append(arr[left])\n",
        "      left+=1\n",
        "    else:\n",
        "      temp.append(arr[right])\n",
        "      right+=1\n",
        "  while left<=mid:\n",
        "    temp.append(arr[left])\n",
        "    left+=1\n",
        "  while right<=high:\n",
        "    temp.append(arr[right])\n",
        "    right+=1\n",
        "  for i in range(low,high+1):\n",
        "    arr[i]=temp[i-low]\n",
        "\n",
        "arr=[3,1,2,4,1,5,2,6,4]\n",
        "\n",
        "mergesort(arr,low=0,high=len(arr)-1)\n",
        "print(arr)"
      ],
      "metadata": {
        "colab": {
          "base_uri": "https://localhost:8080/"
        },
        "id": "6hVdY7DGxp72",
        "outputId": "31c6b479-c0fb-44ed-d891-79ffd91c2f0e"
      },
      "execution_count": 28,
      "outputs": [
        {
          "output_type": "stream",
          "name": "stdout",
          "text": [
            "[1, 1, 2, 2, 3, 4, 4, 5, 6]\n"
          ]
        }
      ]
    },
    {
      "cell_type": "code",
      "source": [
        "#short code for merge sort\n",
        "def mergesort(arr, low, high):\n",
        "    if low >= high:\n",
        "        return arr[low:high+1]\n",
        "    mid = (low + high) // 2\n",
        "    left = mergesort(arr, low, mid)\n",
        "    right = mergesort(arr, mid + 1, high)\n",
        "    return merge(left, right)\n",
        "\n",
        "def merge(left, right):\n",
        "    merged = []\n",
        "    i = j = 0\n",
        "    while i < len(left) and j < len(right):\n",
        "        if left[i] <= right[j]:\n",
        "            merged.append(left[i])\n",
        "            i += 1\n",
        "        else:\n",
        "            merged.append(right[j])\n",
        "            j += 1\n",
        "    merged.extend(left[i:])\n",
        "    merged.extend(right[j:])\n",
        "    return merged\n",
        "\n",
        "arr = [3, 1, 2, 4, 1, 5, 2, 6, 4]\n",
        "sorted_arr = mergesort(arr, 0, len(arr) - 1)\n",
        "print(\"Sorted array:\", sorted_arr)\n"
      ],
      "metadata": {
        "colab": {
          "base_uri": "https://localhost:8080/"
        },
        "id": "YHN46RrH6RCq",
        "outputId": "23b556eb-96ee-4313-aae9-2ab88fa85c7a"
      },
      "execution_count": 29,
      "outputs": [
        {
          "output_type": "stream",
          "name": "stdout",
          "text": [
            "Sorted array: [1, 1, 2, 2, 3, 4, 4, 5, 6]\n"
          ]
        }
      ]
    },
    {
      "cell_type": "code",
      "source": [
        "#most consice merge sort\n",
        "def merge_sort(arr):\n",
        "    if len(arr) <= 1:\n",
        "        return arr\n",
        "\n",
        "    mid = len(arr) // 2\n",
        "    left, right = merge_sort(arr[:mid]), merge_sort(arr[mid:])\n",
        "    return merge(left, right)\n",
        "\n",
        "def merge(left, right):\n",
        "    merged = []\n",
        "    while left and right:\n",
        "        merged.append(left.pop(0) if left[0] <= right[0] else right.pop(0))\n",
        "    return merged + left + right\n",
        "\n",
        "arr = [3, 1, 2, 4, 1, 5, 2, 6, 4]\n",
        "sorted_arr = merge_sort(arr)\n",
        "print(\"Sorted array:\", sorted_arr)\n"
      ],
      "metadata": {
        "id": "o_gpoC4U9bDX",
        "outputId": "68c51fdd-2a0e-4de6-ce7e-42da31567314",
        "colab": {
          "base_uri": "https://localhost:8080/"
        }
      },
      "execution_count": 33,
      "outputs": [
        {
          "output_type": "stream",
          "name": "stdout",
          "text": [
            "Sorted array: [1, 1, 2, 2, 3, 4, 4, 5, 6]\n"
          ]
        }
      ]
    },
    {
      "cell_type": "code",
      "source": [
        "#quick sort\n",
        "def quicksort(arr,low,high):\n",
        "  if low<high:\n",
        "    partition=quick(arr,low,high)\n",
        "    quicksort(arr,low,partition-1)\n",
        "    quicksort(arr,partition+1,high)\n",
        "  return arr\n",
        "\n",
        "def quick(arr,low,high):\n",
        "  pivot=arr[low]\n",
        "  i=low+1\n",
        "  j=high\n",
        "  while i<=j:\n",
        "    while arr[i]<=pivot and i<=j:\n",
        "      i+=1\n",
        "    while arr[j]>pivot: #always remember you are comparing with pivot not arr[pivot]\n",
        "      j-=1\n",
        "    if i<j:\n",
        "      arr[i],arr[j]=arr[j],arr[i]\n",
        "  arr[low],arr[j]=arr[j],arr[low]\n",
        "  return j\n",
        "\n",
        "arr=[4,6,2,5,7,9,1,3]\n",
        "sortedarr=quicksort(arr,low=0,high=len(arr)-1)\n",
        "print(sortedarr)"
      ],
      "metadata": {
        "colab": {
          "base_uri": "https://localhost:8080/"
        },
        "id": "7WymXzgw6Nt9",
        "outputId": "38065321-8867-4dcc-b861-c47d1b80bb47"
      },
      "execution_count": 32,
      "outputs": [
        {
          "output_type": "stream",
          "name": "stdout",
          "text": [
            "[1, 2, 3, 4, 5, 6, 7, 9]\n"
          ]
        }
      ]
    }
  ]
}