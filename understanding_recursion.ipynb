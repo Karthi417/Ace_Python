{
  "nbformat": 4,
  "nbformat_minor": 0,
  "metadata": {
    "colab": {
      "provenance": [],
      "authorship_tag": "ABX9TyNyOj5j4ubk9WeCAeVCwaU9",
      "include_colab_link": true
    },
    "kernelspec": {
      "name": "python3",
      "display_name": "Python 3"
    },
    "language_info": {
      "name": "python"
    }
  },
  "cells": [
    {
      "cell_type": "markdown",
      "metadata": {
        "id": "view-in-github",
        "colab_type": "text"
      },
      "source": [
        "<a href=\"https://colab.research.google.com/github/Karthi417/Ace_Python/blob/main/understanding_recursion.ipynb\" target=\"_parent\"><img src=\"https://colab.research.google.com/assets/colab-badge.svg\" alt=\"Open In Colab\"/></a>"
      ]
    },
    {
      "cell_type": "code",
      "execution_count": 14,
      "metadata": {
        "colab": {
          "base_uri": "https://localhost:8080/"
        },
        "id": "1XgeWpGubDQd",
        "outputId": "8d47b5d6-1b80-4294-9ea6-ae61f1a7d57b"
      },
      "outputs": [
        {
          "output_type": "stream",
          "name": "stdout",
          "text": [
            "karthi\n",
            "karthi\n",
            "karthi\n",
            "\n"
          ]
        }
      ],
      "source": [
        "#writing names N times\n",
        "def name(name1,i,n):\n",
        "  if i>n: return '' #we are returning empty string why because of avoiding None as result\n",
        "  print(name1)\n",
        "  return name(name1,i+1,n) # this will recurse until its works met done\n",
        "\n",
        "name2='karthi'\n",
        "print(name(name2,i=1,n=3))"
      ]
    },
    {
      "cell_type": "code",
      "source": [
        "#to print recursive 1 to N and N to 1\n",
        "print('from i to N')\n",
        "def numb(i,n):\n",
        "  if i>n: return ''\n",
        "  print(i)\n",
        "  return numb(i+1,n)\n",
        "\n",
        "print(numb(1,4))\n",
        "\n",
        "print('from N to i')\n",
        "def numb1(i,n):\n",
        "  if i<n: return ' '\n",
        "  print(i)\n",
        "  return numb1(i-1,n)\n",
        "\n",
        "print(numb1(4,1))"
      ],
      "metadata": {
        "colab": {
          "base_uri": "https://localhost:8080/"
        },
        "id": "1qdGKmfudQPF",
        "outputId": "26c99c57-5b19-4081-efd8-90ff67e2a954"
      },
      "execution_count": 27,
      "outputs": [
        {
          "output_type": "stream",
          "name": "stdout",
          "text": [
            "from i to N\n",
            "1\n",
            "2\n",
            "3\n",
            "4\n",
            "\n",
            "from N to i\n",
            "4\n",
            "3\n",
            "2\n",
            "1\n",
            " \n"
          ]
        }
      ]
    },
    {
      "cell_type": "code",
      "source": [
        "# using backtracking print i to N\n",
        "def backnum(i,n):\n",
        "  if i < n:\n",
        "    return\n",
        "  backnum(i - 1,n)\n",
        "  print(i)\n",
        "\n",
        "backnum(3,1)\n",
        "#in this code we doesnt need two arguments, if you need to do by one arguments (i), then change if condition n->1!, but its give 1 to n numbers.\n",
        "#so the recursive function goes by 3->checks->decrement to 2 but doesnt print(i), it doesnt goes to print(i) until it met the requirements i<1.\n",
        "#then 2->checks->decrement to 1,1->checks->decrement to 0,when it get 0-> checks and requirement satisfied, so it return to the previous function and print(i=1)\n",
        "#and then returns to its sequence of previous functions and returns print(i)\n",
        "#overall conceptual is it recurse in [3,2,1] and print(i) as [1,2,3]."
      ],
      "metadata": {
        "colab": {
          "base_uri": "https://localhost:8080/"
        },
        "id": "dKXnS7fZgACj",
        "outputId": "a24caef0-bffb-43f9-d594-02245dcfb6ab"
      },
      "execution_count": 78,
      "outputs": [
        {
          "output_type": "stream",
          "name": "stdout",
          "text": [
            "1\n",
            "2\n",
            "3\n"
          ]
        }
      ]
    },
    {
      "cell_type": "code",
      "source": [
        "# using backtracking print N to i\n",
        "def backnum1(i,n):\n",
        "  if i > n: return #when i greater than our limit n, its returns. for ex, if i=3 and our limit needed until n=3, if it goes and checks for 4, it terminate the recursion.\n",
        "  backnum1(i+1,n)\n",
        "  print(i)\n",
        "\n",
        "backnum1(1,3)\n",
        "#overall conceptual is it recurse in [1,2,3] and print(i) as[3,2,1]"
      ],
      "metadata": {
        "colab": {
          "base_uri": "https://localhost:8080/"
        },
        "id": "hX8_Wk6WnBs2",
        "outputId": "4f4e4682-2925-4092-c250-6eaab37f8d4d"
      },
      "execution_count": 77,
      "outputs": [
        {
          "output_type": "stream",
          "name": "stdout",
          "text": [
            "3\n",
            "2\n",
            "1\n"
          ]
        }
      ]
    },
    {
      "cell_type": "code",
      "source": [
        "#sum of n numbers\n",
        "#functional way\n",
        "def sum_fn(n):\n",
        "  if (n==0):\n",
        "    return 0\n",
        "  return n + sum_fn(n-1)\n",
        "\n",
        "print(sum_fn(3))\n",
        "\n",
        "#parameterized way\n",
        "def par_sum(i,sum):\n",
        "  if i<1: return print(sum)\n",
        "  par_sum(i-1,sum+i)\n",
        "\n",
        "\n",
        "par_sum(3,0)"
      ],
      "metadata": {
        "colab": {
          "base_uri": "https://localhost:8080/"
        },
        "id": "wd9GE8Ies420",
        "outputId": "d00c67ff-2a4b-4523-a2be-767a19006a0f"
      },
      "execution_count": 96,
      "outputs": [
        {
          "output_type": "stream",
          "name": "stdout",
          "text": [
            "6\n",
            "6\n"
          ]
        }
      ]
    },
    {
      "cell_type": "code",
      "source": [
        "def sum_fn(n):\n",
        "  if (n==1):\n",
        "    return 1\n",
        "  return n * sum_fn(n-1)\n",
        "\n",
        "print(sum_fn(5))\n"
      ],
      "metadata": {
        "colab": {
          "base_uri": "https://localhost:8080/"
        },
        "id": "zngRAhsM066M",
        "outputId": "895e63e5-ede9-4f3e-b15a-499d8baad9a0"
      },
      "execution_count": 103,
      "outputs": [
        {
          "output_type": "stream",
          "name": "stdout",
          "text": [
            "120\n"
          ]
        }
      ]
    },
    {
      "cell_type": "code",
      "source": [
        "#swap the array by recursion\n",
        "def arswp(a,i=0):\n",
        "  n=len(a)\n",
        "  if (i>=n/2): return print(a)\n",
        "  a[i],a[n-i-1]=a[n-i-1],a[i]\n",
        "  arswp(a,i+1)\n",
        "\n",
        "a=[2,3,2,5,1]\n",
        "arswp(a)\n",
        "\n",
        "print('solution 2:')\n",
        "\n",
        "def revarr(a):\n",
        "  return a[::-1]\n",
        "b=[2,3,2,1]\n",
        "print(revarr(b))"
      ],
      "metadata": {
        "colab": {
          "base_uri": "https://localhost:8080/"
        },
        "id": "4gy9IPCDKYgZ",
        "outputId": "91ad92ae-af4c-437c-8464-6ea5c98f7ca7"
      },
      "execution_count": 72,
      "outputs": [
        {
          "output_type": "stream",
          "name": "stdout",
          "text": [
            "[1, 5, 2, 3, 2]\n",
            "solution 2:\n",
            "[1, 2, 3, 2]\n"
          ]
        }
      ]
    },
    {
      "cell_type": "code",
      "source": [
        "#to check the string is palindrome or not by recursion\n",
        "def palin(b,i=0):\n",
        "  n=len(b)\n",
        "  if(i>=n/2): return True\n",
        "  if b[i] != b[n-i-1]:\n",
        "    return False\n",
        "  return palin(b,i+1)\n",
        "b=\"wabw\"\n",
        "print(palin(b))\n",
        "\n",
        "print('solution 2:')\n",
        "\n",
        "def revpal(a):\n",
        "  return True if a==a[::-1] else False\n",
        "\n",
        "a='abba'\n",
        "print(revpal(a))"
      ],
      "metadata": {
        "colab": {
          "base_uri": "https://localhost:8080/"
        },
        "id": "JQHW6sOtUOuu",
        "outputId": "833156a8-c266-4d0b-e380-628327409c75"
      },
      "execution_count": 69,
      "outputs": [
        {
          "output_type": "stream",
          "name": "stdout",
          "text": [
            "False\n",
            "solution 2:\n",
            "True\n"
          ]
        }
      ]
    },
    {
      "cell_type": "code",
      "source": [
        "def charalnum(s):\n",
        "  a=''.join(char for char in s if char.isalnum())\n",
        "  return True if a==a[::-1] else False\n",
        "\n",
        "s=\"A man, a plan, a canal: Panama\"\n",
        "print(charalnum(s))"
      ],
      "metadata": {
        "colab": {
          "base_uri": "https://localhost:8080/"
        },
        "id": "LEhb25HcZ8pf",
        "outputId": "1c213f4e-3eeb-46c0-9df8-f6bf9a16c5a4"
      },
      "execution_count": 78,
      "outputs": [
        {
          "output_type": "stream",
          "name": "stdout",
          "text": [
            "False\n"
          ]
        }
      ]
    }
  ]
}